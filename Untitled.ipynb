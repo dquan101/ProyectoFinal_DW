{
 "cells": [
  {
   "cell_type": "code",
   "execution_count": 47,
   "metadata": {},
   "outputs": [],
   "source": [
    "import pandas as pd\n",
    "import numpy as np\n",
    "from sklearn.cluster import KMeans\n",
    "from sklearn.datasets import load_breast_cancer\n",
    "import seaborn as sns\n",
    "from sklearn import preprocessing\n",
    "from sklearn.cluster import MeanShift, estimate_bandwidth\n",
    "from sklearn.mixture import GaussianMixture\n",
    "from sklearn.discriminant_analysis import LinearDiscriminantAnalysis as LDA\n",
    "import matplotlib.pyplot as plt\n",
    "from scipy import stats"
   ]
  },
  {
   "cell_type": "code",
   "execution_count": 3,
   "metadata": {},
   "outputs": [],
   "source": [
    "with open('steam.csv', encoding=\"utf8\", errors='ignore') as f:\n",
    "    steam_df = pd.read_csv(f)"
   ]
  },
  {
   "cell_type": "code",
   "execution_count": 4,
   "metadata": {},
   "outputs": [
    {
     "data": {
      "text/plain": [
       "appid                 int64\n",
       "name                 object\n",
       "release_date         object\n",
       "english               int64\n",
       "developer            object\n",
       "publisher            object\n",
       "platforms            object\n",
       "required_age          int64\n",
       "categories           object\n",
       "genres               object\n",
       "steamspy_tags        object\n",
       "achievements          int64\n",
       "positive_ratings      int64\n",
       "negative_ratings      int64\n",
       "average_playtime      int64\n",
       "median_playtime       int64\n",
       "owners               object\n",
       "price               float64\n",
       "dtype: object"
      ]
     },
     "execution_count": 4,
     "metadata": {},
     "output_type": "execute_result"
    }
   ],
   "source": [
    "steam_df.dtypes"
   ]
  },
  {
   "cell_type": "code",
   "execution_count": 5,
   "metadata": {},
   "outputs": [
    {
     "name": "stdout",
     "output_type": "stream",
     "text": [
      "VARIABLE             UNIQUE VALUES        NAs\n",
      "appid                27075                0\n",
      "name                 27033                0\n",
      "release_date         2619                 0\n",
      "english              2                    0\n",
      "developer            17113                0\n",
      "publisher            14354                0\n",
      "platforms            7                    0\n",
      "required_age         6                    0\n",
      "categories           3333                 0\n",
      "genres               1552                 0\n",
      "steamspy_tags        6423                 0\n",
      "achievements         410                  0\n",
      "positive_ratings     2800                 0\n",
      "negative_ratings     1492                 0\n",
      "average_playtime     1345                 0\n",
      "median_playtime      1312                 0\n",
      "owners               13                   0\n",
      "price                282                  0\n"
     ]
    }
   ],
   "source": [
    "print(\"{0:<20} {1:<20} {2}\".format(\"VARIABLE\",\"UNIQUE VALUES\",\"NAs\"))\n",
    "for col in steam_df.columns:\n",
    "    print(\"{0:<20} {1:<20} {2}\".format(col, steam_df[col].nunique(), steam_df[col].isna().sum()))"
   ]
  },
  {
   "cell_type": "code",
   "execution_count": 6,
   "metadata": {},
   "outputs": [],
   "source": [
    "steam_df['owners'] = pd.to_numeric(steam_df['owners'].str.extract(r'(\\d*)$')[0])"
   ]
  },
  {
   "cell_type": "code",
   "execution_count": 7,
   "metadata": {},
   "outputs": [
    {
     "data": {
      "text/plain": [
       "<matplotlib.axes._subplots.AxesSubplot at 0x17396c70>"
      ]
     },
     "execution_count": 7,
     "metadata": {},
     "output_type": "execute_result"
    },
    {
     "data": {
      "image/png": "[encoded data removed]",
      "text/plain": [
       "<Figure size 432x288 with 2 Axes>"
      ]
     },
     "metadata": {
      "needs_background": "light"
     },
     "output_type": "display_data"
    }
   ],
   "source": [
    "steam_corr = steam_df.corr()\n",
    "sns.heatmap(steam_corr, square=True)"
   ]
  },
  {
   "cell_type": "code",
   "execution_count": 8,
   "metadata": {},
   "outputs": [
    {
     "data": {
      "text/plain": [
       "<matplotlib.axes._subplots.AxesSubplot at 0x170b2b90>"
      ]
     },
     "execution_count": 8,
     "metadata": {},
     "output_type": "execute_result"
    },
    {
     "data": {
      "image/png": "[encoded data removed]",
      "text/plain": [
       "<Figure size 432x288 with 1 Axes>"
      ]
     },
     "metadata": {
      "needs_background": "light"
     },
     "output_type": "display_data"
    }
   ],
   "source": [
    "sns.boxplot(data=steam_df[['positive_ratings', 'average_playtime']])"
   ]
  },
  {
   "cell_type": "code",
   "execution_count": 9,
   "metadata": {},
   "outputs": [
    {
     "data": {
      "text/html": [
       "<div>\n",
       "<style scoped>\n",
       "    .dataframe tbody tr th:only-of-type {\n",
       "        vertical-align: middle;\n",
       "    }\n",
       "\n",
       "    .dataframe tbody tr th {\n",
       "        vertical-align: top;\n",
       "    }\n",
       "\n",
       "    .dataframe thead th {\n",
       "        text-align: right;\n",
       "    }\n",
       "</style>\n",
       "<table border=\"1\" class=\"dataframe\">\n",
       "  <thead>\n",
       "    <tr style=\"text-align: right;\">\n",
       "      <th></th>\n",
       "      <th>appid</th>\n",
       "      <th>english</th>\n",
       "      <th>required_age</th>\n",
       "      <th>achievements</th>\n",
       "      <th>positive_ratings</th>\n",
       "      <th>negative_ratings</th>\n",
       "      <th>average_playtime</th>\n",
       "      <th>median_playtime</th>\n",
       "      <th>owners</th>\n",
       "      <th>price</th>\n",
       "    </tr>\n",
       "    <tr>\n",
       "      <th>genres</th>\n",
       "      <th></th>\n",
       "      <th></th>\n",
       "      <th></th>\n",
       "      <th></th>\n",
       "      <th></th>\n",
       "      <th></th>\n",
       "      <th></th>\n",
       "      <th></th>\n",
       "      <th></th>\n",
       "      <th></th>\n",
       "    </tr>\n",
       "  </thead>\n",
       "  <tbody>\n",
       "    <tr>\n",
       "      <th>Accounting;Animation &amp; Modeling;Audio Production;Design &amp; Illustration;Education;Photo Editing;Software Training;Utilities;Video Production;Web Publishing</th>\n",
       "      <td>520210.000000</td>\n",
       "      <td>1.000000</td>\n",
       "      <td>0.000000</td>\n",
       "      <td>0.000000</td>\n",
       "      <td>5.000000</td>\n",
       "      <td>7.000000</td>\n",
       "      <td>0.000000</td>\n",
       "      <td>0.000000</td>\n",
       "      <td>20000.000000</td>\n",
       "      <td>11.390000</td>\n",
       "    </tr>\n",
       "    <tr>\n",
       "      <th>Accounting;Education;Software Training;Utilities;Early Access</th>\n",
       "      <td>551960.000000</td>\n",
       "      <td>1.000000</td>\n",
       "      <td>0.000000</td>\n",
       "      <td>0.000000</td>\n",
       "      <td>9.000000</td>\n",
       "      <td>1.000000</td>\n",
       "      <td>0.000000</td>\n",
       "      <td>0.000000</td>\n",
       "      <td>20000.000000</td>\n",
       "      <td>0.000000</td>\n",
       "    </tr>\n",
       "    <tr>\n",
       "      <th>Action</th>\n",
       "      <td>411185.646501</td>\n",
       "      <td>0.996441</td>\n",
       "      <td>1.890866</td>\n",
       "      <td>24.202847</td>\n",
       "      <td>3611.361803</td>\n",
       "      <td>639.671412</td>\n",
       "      <td>263.297746</td>\n",
       "      <td>189.072361</td>\n",
       "      <td>847746.144721</td>\n",
       "      <td>9.981174</td>\n",
       "    </tr>\n",
       "    <tr>\n",
       "      <th>Action;Adventure</th>\n",
       "      <td>422856.336088</td>\n",
       "      <td>0.991736</td>\n",
       "      <td>2.942149</td>\n",
       "      <td>19.316804</td>\n",
       "      <td>5558.873278</td>\n",
       "      <td>1381.374656</td>\n",
       "      <td>318.327824</td>\n",
       "      <td>295.140496</td>\n",
       "      <td>707355.371901</td>\n",
       "      <td>12.245427</td>\n",
       "    </tr>\n",
       "    <tr>\n",
       "      <th>Action;Adventure;Casual</th>\n",
       "      <td>606874.237288</td>\n",
       "      <td>0.966102</td>\n",
       "      <td>0.000000</td>\n",
       "      <td>18.220339</td>\n",
       "      <td>523.525424</td>\n",
       "      <td>59.949153</td>\n",
       "      <td>44.610169</td>\n",
       "      <td>27.966102</td>\n",
       "      <td>70677.966102</td>\n",
       "      <td>4.949661</td>\n",
       "    </tr>\n",
       "    <tr>\n",
       "      <th>...</th>\n",
       "      <td>...</td>\n",
       "      <td>...</td>\n",
       "      <td>...</td>\n",
       "      <td>...</td>\n",
       "      <td>...</td>\n",
       "      <td>...</td>\n",
       "      <td>...</td>\n",
       "      <td>...</td>\n",
       "      <td>...</td>\n",
       "      <td>...</td>\n",
       "    </tr>\n",
       "    <tr>\n",
       "      <th>Violent;Simulation;Early Access</th>\n",
       "      <td>888250.000000</td>\n",
       "      <td>1.000000</td>\n",
       "      <td>0.000000</td>\n",
       "      <td>0.000000</td>\n",
       "      <td>1.000000</td>\n",
       "      <td>1.000000</td>\n",
       "      <td>0.000000</td>\n",
       "      <td>0.000000</td>\n",
       "      <td>20000.000000</td>\n",
       "      <td>4.790000</td>\n",
       "    </tr>\n",
       "    <tr>\n",
       "      <th>Violent;Simulation;Sports</th>\n",
       "      <td>510510.000000</td>\n",
       "      <td>1.000000</td>\n",
       "      <td>16.000000</td>\n",
       "      <td>59.000000</td>\n",
       "      <td>793.000000</td>\n",
       "      <td>537.000000</td>\n",
       "      <td>0.000000</td>\n",
       "      <td>0.000000</td>\n",
       "      <td>100000.000000</td>\n",
       "      <td>39.990000</td>\n",
       "    </tr>\n",
       "    <tr>\n",
       "      <th>Violent;Sports</th>\n",
       "      <td>543010.000000</td>\n",
       "      <td>1.000000</td>\n",
       "      <td>16.000000</td>\n",
       "      <td>22.000000</td>\n",
       "      <td>127.000000</td>\n",
       "      <td>69.000000</td>\n",
       "      <td>0.000000</td>\n",
       "      <td>0.000000</td>\n",
       "      <td>20000.000000</td>\n",
       "      <td>8.990000</td>\n",
       "    </tr>\n",
       "    <tr>\n",
       "      <th>Violent;Strategy</th>\n",
       "      <td>699870.000000</td>\n",
       "      <td>1.000000</td>\n",
       "      <td>0.000000</td>\n",
       "      <td>15.000000</td>\n",
       "      <td>13.000000</td>\n",
       "      <td>22.000000</td>\n",
       "      <td>0.000000</td>\n",
       "      <td>0.000000</td>\n",
       "      <td>20000.000000</td>\n",
       "      <td>15.490000</td>\n",
       "    </tr>\n",
       "    <tr>\n",
       "      <th>Web Publishing</th>\n",
       "      <td>235900.000000</td>\n",
       "      <td>1.000000</td>\n",
       "      <td>0.000000</td>\n",
       "      <td>0.000000</td>\n",
       "      <td>326.000000</td>\n",
       "      <td>34.000000</td>\n",
       "      <td>0.000000</td>\n",
       "      <td>0.000000</td>\n",
       "      <td>200000.000000</td>\n",
       "      <td>18.990000</td>\n",
       "    </tr>\n",
       "  </tbody>\n",
       "</table>\n",
       "<p>1552 rows × 10 columns</p>\n",
       "</div>"
      ],
      "text/plain": [
       "                                                            appid   english  \\\n",
       "genres                                                                        \n",
       "Accounting;Animation & Modeling;Audio Productio...  520210.000000  1.000000   \n",
       "Accounting;Education;Software Training;Utilitie...  551960.000000  1.000000   \n",
       "Action                                              411185.646501  0.996441   \n",
       "Action;Adventure                                    422856.336088  0.991736   \n",
       "Action;Adventure;Casual                             606874.237288  0.966102   \n",
       "...                                                           ...       ...   \n",
       "Violent;Simulation;Early Access                     888250.000000  1.000000   \n",
       "Violent;Simulation;Sports                           510510.000000  1.000000   \n",
       "Violent;Sports                                      543010.000000  1.000000   \n",
       "Violent;Strategy                                    699870.000000  1.000000   \n",
       "Web Publishing                                      235900.000000  1.000000   \n",
       "\n",
       "                                                    required_age  \\\n",
       "genres                                                             \n",
       "Accounting;Animation & Modeling;Audio Productio...      0.000000   \n",
       "Accounting;Education;Software Training;Utilitie...      0.000000   \n",
       "Action                                                  1.890866   \n",
       "Action;Adventure                                        2.942149   \n",
       "Action;Adventure;Casual                                 0.000000   \n",
       "...                                                          ...   \n",
       "Violent;Simulation;Early Access                         0.000000   \n",
       "Violent;Simulation;Sports                              16.000000   \n",
       "Violent;Sports                                         16.000000   \n",
       "Violent;Strategy                                        0.000000   \n",
       "Web Publishing                                          0.000000   \n",
       "\n",
       "                                                    achievements  \\\n",
       "genres                                                             \n",
       "Accounting;Animation & Modeling;Audio Productio...      0.000000   \n",
       "Accounting;Education;Software Training;Utilitie...      0.000000   \n",
       "Action                                                 24.202847   \n",
       "Action;Adventure                                       19.316804   \n",
       "Action;Adventure;Casual                                18.220339   \n",
       "...                                                          ...   \n",
       "Violent;Simulation;Early Access                         0.000000   \n",
       "Violent;Simulation;Sports                              59.000000   \n",
       "Violent;Sports                                         22.000000   \n",
       "Violent;Strategy                                       15.000000   \n",
       "Web Publishing                                          0.000000   \n",
       "\n",
       "                                                    positive_ratings  \\\n",
       "genres                                                                 \n",
       "Accounting;Animation & Modeling;Audio Productio...          5.000000   \n",
       "Accounting;Education;Software Training;Utilitie...          9.000000   \n",
       "Action                                                   3611.361803   \n",
       "Action;Adventure                                         5558.873278   \n",
       "Action;Adventure;Casual                                   523.525424   \n",
       "...                                                              ...   \n",
       "Violent;Simulation;Early Access                             1.000000   \n",
       "Violent;Simulation;Sports                                 793.000000   \n",
       "Violent;Sports                                            127.000000   \n",
       "Violent;Strategy                                           13.000000   \n",
       "Web Publishing                                            326.000000   \n",
       "\n",
       "                                                    negative_ratings  \\\n",
       "genres                                                                 \n",
       "Accounting;Animation & Modeling;Audio Productio...          7.000000   \n",
       "Accounting;Education;Software Training;Utilitie...          1.000000   \n",
       "Action                                                    639.671412   \n",
       "Action;Adventure                                         1381.374656   \n",
       "Action;Adventure;Casual                                    59.949153   \n",
       "...                                                              ...   \n",
       "Violent;Simulation;Early Access                             1.000000   \n",
       "Violent;Simulation;Sports                                 537.000000   \n",
       "Violent;Sports                                             69.000000   \n",
       "Violent;Strategy                                           22.000000   \n",
       "Web Publishing                                             34.000000   \n",
       "\n",
       "                                                    average_playtime  \\\n",
       "genres                                                                 \n",
       "Accounting;Animation & Modeling;Audio Productio...          0.000000   \n",
       "Accounting;Education;Software Training;Utilitie...          0.000000   \n",
       "Action                                                    263.297746   \n",
       "Action;Adventure                                          318.327824   \n",
       "Action;Adventure;Casual                                    44.610169   \n",
       "...                                                              ...   \n",
       "Violent;Simulation;Early Access                             0.000000   \n",
       "Violent;Simulation;Sports                                   0.000000   \n",
       "Violent;Sports                                              0.000000   \n",
       "Violent;Strategy                                            0.000000   \n",
       "Web Publishing                                              0.000000   \n",
       "\n",
       "                                                    median_playtime  \\\n",
       "genres                                                                \n",
       "Accounting;Animation & Modeling;Audio Productio...         0.000000   \n",
       "Accounting;Education;Software Training;Utilitie...         0.000000   \n",
       "Action                                                   189.072361   \n",
       "Action;Adventure                                         295.140496   \n",
       "Action;Adventure;Casual                                   27.966102   \n",
       "...                                                             ...   \n",
       "Violent;Simulation;Early Access                            0.000000   \n",
       "Violent;Simulation;Sports                                  0.000000   \n",
       "Violent;Sports                                             0.000000   \n",
       "Violent;Strategy                                           0.000000   \n",
       "Web Publishing                                             0.000000   \n",
       "\n",
       "                                                           owners      price  \n",
       "genres                                                                        \n",
       "Accounting;Animation & Modeling;Audio Productio...   20000.000000  11.390000  \n",
       "Accounting;Education;Software Training;Utilitie...   20000.000000   0.000000  \n",
       "Action                                              847746.144721   9.981174  \n",
       "Action;Adventure                                    707355.371901  12.245427  \n",
       "Action;Adventure;Casual                              70677.966102   4.949661  \n",
       "...                                                           ...        ...  \n",
       "Violent;Simulation;Early Access                      20000.000000   4.790000  \n",
       "Violent;Simulation;Sports                           100000.000000  39.990000  \n",
       "Violent;Sports                                       20000.000000   8.990000  \n",
       "Violent;Strategy                                     20000.000000  15.490000  \n",
       "Web Publishing                                      200000.000000  18.990000  \n",
       "\n",
       "[1552 rows x 10 columns]"
      ]
     },
     "execution_count": 9,
     "metadata": {},
     "output_type": "execute_result"
    }
   ],
   "source": [
    "steam_df.groupby(['genres']).mean()"
   ]
  },
  {
   "cell_type": "code",
   "execution_count": 10,
   "metadata": {},
   "outputs": [],
   "source": [
    "steam_df.insert(10, 'primary_genre', steam_df['genres'].str.extract(r'(\\A(\\w*))')[0])\n",
    "steam_df.insert(10, 'secondary_genre', steam_df['genres'].str.extract(r'((\\w*)\\Z)')[0])"
   ]
  },
  {
   "cell_type": "code",
   "execution_count": 11,
   "metadata": {},
   "outputs": [],
   "source": [
    "new_steam = steam_df.drop(['genres', 'steamspy_tags'], axis=1)"
   ]
  },
  {
   "cell_type": "code",
   "execution_count": 12,
   "metadata": {},
   "outputs": [],
   "source": [
    "new_steam.insert(9, 'category', new_steam['categories'].str.extract(r'(\\A(\\w*))')[0])"
   ]
  },
  {
   "cell_type": "code",
   "execution_count": 13,
   "metadata": {},
   "outputs": [],
   "source": [
    "new_steam = new_steam.drop(['categories'], axis=1)"
   ]
  },
  {
   "cell_type": "code",
   "execution_count": 14,
   "metadata": {},
   "outputs": [
    {
     "data": {
      "text/html": [
       "<div>\n",
       "<style scoped>\n",
       "    .dataframe tbody tr th:only-of-type {\n",
       "        vertical-align: middle;\n",
       "    }\n",
       "\n",
       "    .dataframe tbody tr th {\n",
       "        vertical-align: top;\n",
       "    }\n",
       "\n",
       "    .dataframe thead th {\n",
       "        text-align: right;\n",
       "    }\n",
       "</style>\n",
       "<table border=\"1\" class=\"dataframe\">\n",
       "  <thead>\n",
       "    <tr style=\"text-align: right;\">\n",
       "      <th></th>\n",
       "      <th>appid</th>\n",
       "      <th>name</th>\n",
       "      <th>release_date</th>\n",
       "      <th>english</th>\n",
       "      <th>developer</th>\n",
       "      <th>publisher</th>\n",
       "      <th>platforms</th>\n",
       "      <th>required_age</th>\n",
       "      <th>category</th>\n",
       "      <th>secondary_genre</th>\n",
       "      <th>primary_genre</th>\n",
       "      <th>achievements</th>\n",
       "      <th>positive_ratings</th>\n",
       "      <th>negative_ratings</th>\n",
       "      <th>average_playtime</th>\n",
       "      <th>median_playtime</th>\n",
       "      <th>owners</th>\n",
       "      <th>price</th>\n",
       "    </tr>\n",
       "  </thead>\n",
       "  <tbody>\n",
       "    <tr>\n",
       "      <th>0</th>\n",
       "      <td>10</td>\n",
       "      <td>Counter-Strike</td>\n",
       "      <td>2000-11-01</td>\n",
       "      <td>1</td>\n",
       "      <td>Valve</td>\n",
       "      <td>Valve</td>\n",
       "      <td>windows;mac;linux</td>\n",
       "      <td>0</td>\n",
       "      <td>Multi</td>\n",
       "      <td>Action</td>\n",
       "      <td>Action</td>\n",
       "      <td>0</td>\n",
       "      <td>124534</td>\n",
       "      <td>3339</td>\n",
       "      <td>17612</td>\n",
       "      <td>317</td>\n",
       "      <td>20000000</td>\n",
       "      <td>7.19</td>\n",
       "    </tr>\n",
       "    <tr>\n",
       "      <th>1</th>\n",
       "      <td>20</td>\n",
       "      <td>Team Fortress Classic</td>\n",
       "      <td>1999-04-01</td>\n",
       "      <td>1</td>\n",
       "      <td>Valve</td>\n",
       "      <td>Valve</td>\n",
       "      <td>windows;mac;linux</td>\n",
       "      <td>0</td>\n",
       "      <td>Multi</td>\n",
       "      <td>Action</td>\n",
       "      <td>Action</td>\n",
       "      <td>0</td>\n",
       "      <td>3318</td>\n",
       "      <td>633</td>\n",
       "      <td>277</td>\n",
       "      <td>62</td>\n",
       "      <td>10000000</td>\n",
       "      <td>3.99</td>\n",
       "    </tr>\n",
       "    <tr>\n",
       "      <th>2</th>\n",
       "      <td>30</td>\n",
       "      <td>Day of Defeat</td>\n",
       "      <td>2003-05-01</td>\n",
       "      <td>1</td>\n",
       "      <td>Valve</td>\n",
       "      <td>Valve</td>\n",
       "      <td>windows;mac;linux</td>\n",
       "      <td>0</td>\n",
       "      <td>Multi</td>\n",
       "      <td>Action</td>\n",
       "      <td>Action</td>\n",
       "      <td>0</td>\n",
       "      <td>3416</td>\n",
       "      <td>398</td>\n",
       "      <td>187</td>\n",
       "      <td>34</td>\n",
       "      <td>10000000</td>\n",
       "      <td>3.99</td>\n",
       "    </tr>\n",
       "    <tr>\n",
       "      <th>3</th>\n",
       "      <td>40</td>\n",
       "      <td>Deathmatch Classic</td>\n",
       "      <td>2001-06-01</td>\n",
       "      <td>1</td>\n",
       "      <td>Valve</td>\n",
       "      <td>Valve</td>\n",
       "      <td>windows;mac;linux</td>\n",
       "      <td>0</td>\n",
       "      <td>Multi</td>\n",
       "      <td>Action</td>\n",
       "      <td>Action</td>\n",
       "      <td>0</td>\n",
       "      <td>1273</td>\n",
       "      <td>267</td>\n",
       "      <td>258</td>\n",
       "      <td>184</td>\n",
       "      <td>10000000</td>\n",
       "      <td>3.99</td>\n",
       "    </tr>\n",
       "    <tr>\n",
       "      <th>4</th>\n",
       "      <td>50</td>\n",
       "      <td>Half-Life: Opposing Force</td>\n",
       "      <td>1999-11-01</td>\n",
       "      <td>1</td>\n",
       "      <td>Gearbox Software</td>\n",
       "      <td>Valve</td>\n",
       "      <td>windows;mac;linux</td>\n",
       "      <td>0</td>\n",
       "      <td>Single</td>\n",
       "      <td>Action</td>\n",
       "      <td>Action</td>\n",
       "      <td>0</td>\n",
       "      <td>5250</td>\n",
       "      <td>288</td>\n",
       "      <td>624</td>\n",
       "      <td>415</td>\n",
       "      <td>10000000</td>\n",
       "      <td>3.99</td>\n",
       "    </tr>\n",
       "    <tr>\n",
       "      <th>...</th>\n",
       "      <td>...</td>\n",
       "      <td>...</td>\n",
       "      <td>...</td>\n",
       "      <td>...</td>\n",
       "      <td>...</td>\n",
       "      <td>...</td>\n",
       "      <td>...</td>\n",
       "      <td>...</td>\n",
       "      <td>...</td>\n",
       "      <td>...</td>\n",
       "      <td>...</td>\n",
       "      <td>...</td>\n",
       "      <td>...</td>\n",
       "      <td>...</td>\n",
       "      <td>...</td>\n",
       "      <td>...</td>\n",
       "      <td>...</td>\n",
       "      <td>...</td>\n",
       "    </tr>\n",
       "    <tr>\n",
       "      <th>27070</th>\n",
       "      <td>1065230</td>\n",
       "      <td>Room of Pandora</td>\n",
       "      <td>2019-04-24</td>\n",
       "      <td>1</td>\n",
       "      <td>SHEN JIAWEI</td>\n",
       "      <td>SHEN JIAWEI</td>\n",
       "      <td>windows</td>\n",
       "      <td>0</td>\n",
       "      <td>Single</td>\n",
       "      <td>Indie</td>\n",
       "      <td>Adventure</td>\n",
       "      <td>7</td>\n",
       "      <td>3</td>\n",
       "      <td>0</td>\n",
       "      <td>0</td>\n",
       "      <td>0</td>\n",
       "      <td>20000</td>\n",
       "      <td>2.09</td>\n",
       "    </tr>\n",
       "    <tr>\n",
       "      <th>27071</th>\n",
       "      <td>1065570</td>\n",
       "      <td>Cyber Gun</td>\n",
       "      <td>2019-04-23</td>\n",
       "      <td>1</td>\n",
       "      <td>Semyon Maximov</td>\n",
       "      <td>BekkerDev Studio</td>\n",
       "      <td>windows</td>\n",
       "      <td>0</td>\n",
       "      <td>Single</td>\n",
       "      <td>Indie</td>\n",
       "      <td>Action</td>\n",
       "      <td>0</td>\n",
       "      <td>8</td>\n",
       "      <td>1</td>\n",
       "      <td>0</td>\n",
       "      <td>0</td>\n",
       "      <td>20000</td>\n",
       "      <td>1.69</td>\n",
       "    </tr>\n",
       "    <tr>\n",
       "      <th>27072</th>\n",
       "      <td>1065650</td>\n",
       "      <td>Super Star Blast</td>\n",
       "      <td>2019-04-24</td>\n",
       "      <td>1</td>\n",
       "      <td>EntwicklerX</td>\n",
       "      <td>EntwicklerX</td>\n",
       "      <td>windows</td>\n",
       "      <td>0</td>\n",
       "      <td>Single</td>\n",
       "      <td>Indie</td>\n",
       "      <td>Action</td>\n",
       "      <td>24</td>\n",
       "      <td>0</td>\n",
       "      <td>1</td>\n",
       "      <td>0</td>\n",
       "      <td>0</td>\n",
       "      <td>20000</td>\n",
       "      <td>3.99</td>\n",
       "    </tr>\n",
       "    <tr>\n",
       "      <th>27073</th>\n",
       "      <td>1066700</td>\n",
       "      <td>New Yankee 7: Deer Hunters</td>\n",
       "      <td>2019-04-17</td>\n",
       "      <td>1</td>\n",
       "      <td>Yustas Game Studio</td>\n",
       "      <td>Alawar Entertainment</td>\n",
       "      <td>windows;mac</td>\n",
       "      <td>0</td>\n",
       "      <td>Single</td>\n",
       "      <td>Indie</td>\n",
       "      <td>Adventure</td>\n",
       "      <td>0</td>\n",
       "      <td>2</td>\n",
       "      <td>0</td>\n",
       "      <td>0</td>\n",
       "      <td>0</td>\n",
       "      <td>20000</td>\n",
       "      <td>5.19</td>\n",
       "    </tr>\n",
       "    <tr>\n",
       "      <th>27074</th>\n",
       "      <td>1069460</td>\n",
       "      <td>Rune Lord</td>\n",
       "      <td>2019-04-24</td>\n",
       "      <td>1</td>\n",
       "      <td>Adept Studios GD</td>\n",
       "      <td>Alawar Entertainment</td>\n",
       "      <td>windows;mac</td>\n",
       "      <td>0</td>\n",
       "      <td>Single</td>\n",
       "      <td>Indie</td>\n",
       "      <td>Adventure</td>\n",
       "      <td>0</td>\n",
       "      <td>4</td>\n",
       "      <td>0</td>\n",
       "      <td>0</td>\n",
       "      <td>0</td>\n",
       "      <td>20000</td>\n",
       "      <td>5.19</td>\n",
       "    </tr>\n",
       "  </tbody>\n",
       "</table>\n",
       "<p>27075 rows × 18 columns</p>\n",
       "</div>"
      ],
      "text/plain": [
       "         appid                        name release_date  english  \\\n",
       "0           10              Counter-Strike   2000-11-01        1   \n",
       "1           20       Team Fortress Classic   1999-04-01        1   \n",
       "2           30               Day of Defeat   2003-05-01        1   \n",
       "3           40          Deathmatch Classic   2001-06-01        1   \n",
       "4           50   Half-Life: Opposing Force   1999-11-01        1   \n",
       "...        ...                         ...          ...      ...   \n",
       "27070  1065230             Room of Pandora   2019-04-24        1   \n",
       "27071  1065570                   Cyber Gun   2019-04-23        1   \n",
       "27072  1065650            Super Star Blast   2019-04-24        1   \n",
       "27073  1066700  New Yankee 7: Deer Hunters   2019-04-17        1   \n",
       "27074  1069460                   Rune Lord   2019-04-24        1   \n",
       "\n",
       "                developer             publisher          platforms  \\\n",
       "0                   Valve                 Valve  windows;mac;linux   \n",
       "1                   Valve                 Valve  windows;mac;linux   \n",
       "2                   Valve                 Valve  windows;mac;linux   \n",
       "3                   Valve                 Valve  windows;mac;linux   \n",
       "4        Gearbox Software                 Valve  windows;mac;linux   \n",
       "...                   ...                   ...                ...   \n",
       "27070         SHEN JIAWEI           SHEN JIAWEI            windows   \n",
       "27071      Semyon Maximov      BekkerDev Studio            windows   \n",
       "27072         EntwicklerX           EntwicklerX            windows   \n",
       "27073  Yustas Game Studio  Alawar Entertainment        windows;mac   \n",
       "27074    Adept Studios GD  Alawar Entertainment        windows;mac   \n",
       "\n",
       "       required_age category secondary_genre primary_genre  achievements  \\\n",
       "0                 0    Multi          Action        Action             0   \n",
       "1                 0    Multi          Action        Action             0   \n",
       "2                 0    Multi          Action        Action             0   \n",
       "3                 0    Multi          Action        Action             0   \n",
       "4                 0   Single          Action        Action             0   \n",
       "...             ...      ...             ...           ...           ...   \n",
       "27070             0   Single           Indie     Adventure             7   \n",
       "27071             0   Single           Indie        Action             0   \n",
       "27072             0   Single           Indie        Action            24   \n",
       "27073             0   Single           Indie     Adventure             0   \n",
       "27074             0   Single           Indie     Adventure             0   \n",
       "\n",
       "       positive_ratings  negative_ratings  average_playtime  median_playtime  \\\n",
       "0                124534              3339             17612              317   \n",
       "1                  3318               633               277               62   \n",
       "2                  3416               398               187               34   \n",
       "3                  1273               267               258              184   \n",
       "4                  5250               288               624              415   \n",
       "...                 ...               ...               ...              ...   \n",
       "27070                 3                 0                 0                0   \n",
       "27071                 8                 1                 0                0   \n",
       "27072                 0                 1                 0                0   \n",
       "27073                 2                 0                 0                0   \n",
       "27074                 4                 0                 0                0   \n",
       "\n",
       "         owners  price  \n",
       "0      20000000   7.19  \n",
       "1      10000000   3.99  \n",
       "2      10000000   3.99  \n",
       "3      10000000   3.99  \n",
       "4      10000000   3.99  \n",
       "...         ...    ...  \n",
       "27070     20000   2.09  \n",
       "27071     20000   1.69  \n",
       "27072     20000   3.99  \n",
       "27073     20000   5.19  \n",
       "27074     20000   5.19  \n",
       "\n",
       "[27075 rows x 18 columns]"
      ]
     },
     "execution_count": 14,
     "metadata": {},
     "output_type": "execute_result"
    }
   ],
   "source": [
    "new_steam"
   ]
  },
  {
   "cell_type": "code",
   "execution_count": 15,
   "metadata": {},
   "outputs": [
    {
     "data": {
      "image/png": "[encoded data removed]",
      "text/plain": [
       "<Figure size 432x288 with 1 Axes>"
      ]
     },
     "metadata": {
      "needs_background": "light"
     },
     "output_type": "display_data"
    }
   ],
   "source": [
    "playtime_plot = sns.distplot(steam_df['price'])"
   ]
  },
  {
   "cell_type": "code",
   "execution_count": 16,
   "metadata": {},
   "outputs": [
    {
     "data": {
      "text/plain": [
       "((array([-4.0500744 , -3.83752078, -3.72136268, ...,  3.72136268,\n",
       "          3.83752078,  4.0500744 ]),\n",
       "  array([      0,       0,       0, ...,  515879,  863507, 2644404],\n",
       "        dtype=int64)),\n",
       " (2669.5440930955237, 1000.5585226223462, 0.14056796080761771))"
      ]
     },
     "execution_count": 16,
     "metadata": {},
     "output_type": "execute_result"
    },
    {
     "data": {
      "image/png": "[encoded data removed]",
      "text/plain": [
       "<Figure size 432x288 with 1 Axes>"
      ]
     },
     "metadata": {
      "needs_background": "light"
     },
     "output_type": "display_data"
    }
   ],
   "source": [
    "stats.probplot(steam_df['positive_ratings'], plot=sns.mpl.pyplot)"
   ]
  },
  {
   "cell_type": "code",
   "execution_count": 17,
   "metadata": {},
   "outputs": [
    {
     "data": {
      "text/plain": [
       "2644404"
      ]
     },
     "execution_count": 17,
     "metadata": {},
     "output_type": "execute_result"
    }
   ],
   "source": [
    "steam_df['positive_ratings'].max()"
   ]
  },
  {
   "cell_type": "code",
   "execution_count": 42,
   "metadata": {},
   "outputs": [],
   "source": [
    "scaler = preprocessing.MinMaxScaler()\n",
    "scaled_steam = scaler.fit_transform(new_steam[['positive_ratings', 'negative_ratings', 'median_playtime', 'average_playtime']])\n",
    "scaled = pd.DataFrame(scaled_steam)"
   ]
  },
  {
   "cell_type": "code",
   "execution_count": 56,
   "metadata": {},
   "outputs": [
    {
     "name": "stderr",
     "output_type": "stream",
     "text": [
      "c:\\users\\justf\\appdata\\local\\programs\\python\\python36-32\\lib\\site-packages\\sklearn\\utils\\validation.py:760: DataConversionWarning: A column-vector y was passed when a 1d array was expected. Please change the shape of y to (n_samples, ), for example using ravel().\n",
      "  y = column_or_1d(y, warn=True)\n"
     ]
    },
    {
     "data": {
      "text/html": [
       "<div>\n",
       "<style scoped>\n",
       "    .dataframe tbody tr th:only-of-type {\n",
       "        vertical-align: middle;\n",
       "    }\n",
       "\n",
       "    .dataframe tbody tr th {\n",
       "        vertical-align: top;\n",
       "    }\n",
       "\n",
       "    .dataframe thead th {\n",
       "        text-align: right;\n",
       "    }\n",
       "</style>\n",
       "<table border=\"1\" class=\"dataframe\">\n",
       "  <thead>\n",
       "    <tr style=\"text-align: right;\">\n",
       "      <th></th>\n",
       "      <th>0</th>\n",
       "      <th>1</th>\n",
       "      <th>2</th>\n",
       "      <th>3</th>\n",
       "    </tr>\n",
       "  </thead>\n",
       "  <tbody>\n",
       "    <tr>\n",
       "      <th>0</th>\n",
       "      <td>4.709341e-02</td>\n",
       "      <td>0.006855</td>\n",
       "      <td>0.001664</td>\n",
       "      <td>0.184913</td>\n",
       "    </tr>\n",
       "    <tr>\n",
       "      <th>1</th>\n",
       "      <td>1.254725e-03</td>\n",
       "      <td>0.001300</td>\n",
       "      <td>0.000325</td>\n",
       "      <td>0.002908</td>\n",
       "    </tr>\n",
       "    <tr>\n",
       "      <th>2</th>\n",
       "      <td>1.291784e-03</td>\n",
       "      <td>0.000817</td>\n",
       "      <td>0.000178</td>\n",
       "      <td>0.001963</td>\n",
       "    </tr>\n",
       "    <tr>\n",
       "      <th>3</th>\n",
       "      <td>4.813939e-04</td>\n",
       "      <td>0.000548</td>\n",
       "      <td>0.000966</td>\n",
       "      <td>0.002709</td>\n",
       "    </tr>\n",
       "    <tr>\n",
       "      <th>4</th>\n",
       "      <td>1.985324e-03</td>\n",
       "      <td>0.000591</td>\n",
       "      <td>0.002179</td>\n",
       "      <td>0.006552</td>\n",
       "    </tr>\n",
       "    <tr>\n",
       "      <th>...</th>\n",
       "      <td>...</td>\n",
       "      <td>...</td>\n",
       "      <td>...</td>\n",
       "      <td>...</td>\n",
       "    </tr>\n",
       "    <tr>\n",
       "      <th>27069</th>\n",
       "      <td>1.134471e-06</td>\n",
       "      <td>0.000000</td>\n",
       "      <td>0.000000</td>\n",
       "      <td>0.000000</td>\n",
       "    </tr>\n",
       "    <tr>\n",
       "      <th>27070</th>\n",
       "      <td>3.025256e-06</td>\n",
       "      <td>0.000002</td>\n",
       "      <td>0.000000</td>\n",
       "      <td>0.000000</td>\n",
       "    </tr>\n",
       "    <tr>\n",
       "      <th>27071</th>\n",
       "      <td>0.000000e+00</td>\n",
       "      <td>0.000002</td>\n",
       "      <td>0.000000</td>\n",
       "      <td>0.000000</td>\n",
       "    </tr>\n",
       "    <tr>\n",
       "      <th>27072</th>\n",
       "      <td>7.563141e-07</td>\n",
       "      <td>0.000000</td>\n",
       "      <td>0.000000</td>\n",
       "      <td>0.000000</td>\n",
       "    </tr>\n",
       "    <tr>\n",
       "      <th>27073</th>\n",
       "      <td>1.512628e-06</td>\n",
       "      <td>0.000000</td>\n",
       "      <td>0.000000</td>\n",
       "      <td>0.000000</td>\n",
       "    </tr>\n",
       "  </tbody>\n",
       "</table>\n",
       "<p>27074 rows × 4 columns</p>\n",
       "</div>"
      ],
      "text/plain": [
       "                  0         1         2         3\n",
       "0      4.709341e-02  0.006855  0.001664  0.184913\n",
       "1      1.254725e-03  0.001300  0.000325  0.002908\n",
       "2      1.291784e-03  0.000817  0.000178  0.001963\n",
       "3      4.813939e-04  0.000548  0.000966  0.002709\n",
       "4      1.985324e-03  0.000591  0.002179  0.006552\n",
       "...             ...       ...       ...       ...\n",
       "27069  1.134471e-06  0.000000  0.000000  0.000000\n",
       "27070  3.025256e-06  0.000002  0.000000  0.000000\n",
       "27071  0.000000e+00  0.000002  0.000000  0.000000\n",
       "27072  7.563141e-07  0.000000  0.000000  0.000000\n",
       "27073  1.512628e-06  0.000000  0.000000  0.000000\n",
       "\n",
       "[27074 rows x 4 columns]"
      ]
     },
     "execution_count": 56,
     "metadata": {},
     "output_type": "execute_result"
    }
   ],
   "source": [
    "lda = LDA()\n",
    "\n",
    "ld = lda.fit_transform(scaled, new_steam[['positive_ratings']])\n",
    "\n",
    "lda_steam = pd.DataFrame(data=ld, columns = ['positive_ratings'])\n",
    "\n",
    "lda_steam['Cluster'] = new_steam.required_age\n",
    "\n",
    "lda_steam\n",
    "scaled"
   ]
  },
  {
   "cell_type": "code",
   "execution_count": null,
   "metadata": {},
   "outputs": [],
   "source": [
    "sns.lmplot(x=\"LDA1\", y=\"LDA2\",\n",
    "  data=lda_df, \n",
    "  fit_reg=False, \n",
    "  hue='Cluster', # color by cluster\n",
    "  legend=True,\n",
    "  scatter_kws={\"s\": 80}) # specify the point size"
   ]
  },
  {
   "cell_type": "code",
   "execution_count": 19,
   "metadata": {},
   "outputs": [
    {
     "data": {
      "text/plain": [
       "<matplotlib.axes._subplots.AxesSubplot at 0x17546ad0>"
      ]
     },
     "execution_count": 19,
     "metadata": {},
     "output_type": "execute_result"
    },
    {
     "data": {
      "image/png": "[encoded data removed]",
      "text/plain": [
       "<Figure size 432x288 with 1 Axes>"
      ]
     },
     "metadata": {
      "needs_background": "light"
     },
     "output_type": "display_data"
    }
   ],
   "source": [
    "sns.distplot(scaled[0])"
   ]
  },
  {
   "cell_type": "code",
   "execution_count": 20,
   "metadata": {},
   "outputs": [
    {
     "data": {
      "text/html": [
       "<div>\n",
       "<style scoped>\n",
       "    .dataframe tbody tr th:only-of-type {\n",
       "        vertical-align: middle;\n",
       "    }\n",
       "\n",
       "    .dataframe tbody tr th {\n",
       "        vertical-align: top;\n",
       "    }\n",
       "\n",
       "    .dataframe thead th {\n",
       "        text-align: right;\n",
       "    }\n",
       "</style>\n",
       "<table border=\"1\" class=\"dataframe\">\n",
       "  <thead>\n",
       "    <tr style=\"text-align: right;\">\n",
       "      <th></th>\n",
       "      <th>0</th>\n",
       "      <th>1</th>\n",
       "      <th>2</th>\n",
       "      <th>3</th>\n",
       "    </tr>\n",
       "  </thead>\n",
       "  <tbody>\n",
       "    <tr>\n",
       "      <th>0</th>\n",
       "      <td>4.709341e-02</td>\n",
       "      <td>0.006855</td>\n",
       "      <td>0.001663</td>\n",
       "      <td>0.092391</td>\n",
       "    </tr>\n",
       "    <tr>\n",
       "      <th>1</th>\n",
       "      <td>1.254725e-03</td>\n",
       "      <td>0.001300</td>\n",
       "      <td>0.000325</td>\n",
       "      <td>0.001453</td>\n",
       "    </tr>\n",
       "    <tr>\n",
       "      <th>2</th>\n",
       "      <td>1.291784e-03</td>\n",
       "      <td>0.000817</td>\n",
       "      <td>0.000178</td>\n",
       "      <td>0.000981</td>\n",
       "    </tr>\n",
       "    <tr>\n",
       "      <th>3</th>\n",
       "      <td>4.813939e-04</td>\n",
       "      <td>0.000548</td>\n",
       "      <td>0.000965</td>\n",
       "      <td>0.001353</td>\n",
       "    </tr>\n",
       "    <tr>\n",
       "      <th>4</th>\n",
       "      <td>1.985324e-03</td>\n",
       "      <td>0.000591</td>\n",
       "      <td>0.002177</td>\n",
       "      <td>0.003273</td>\n",
       "    </tr>\n",
       "    <tr>\n",
       "      <th>...</th>\n",
       "      <td>...</td>\n",
       "      <td>...</td>\n",
       "      <td>...</td>\n",
       "      <td>...</td>\n",
       "    </tr>\n",
       "    <tr>\n",
       "      <th>27070</th>\n",
       "      <td>1.134471e-06</td>\n",
       "      <td>0.000000</td>\n",
       "      <td>0.000000</td>\n",
       "      <td>0.000000</td>\n",
       "    </tr>\n",
       "    <tr>\n",
       "      <th>27071</th>\n",
       "      <td>3.025256e-06</td>\n",
       "      <td>0.000002</td>\n",
       "      <td>0.000000</td>\n",
       "      <td>0.000000</td>\n",
       "    </tr>\n",
       "    <tr>\n",
       "      <th>27072</th>\n",
       "      <td>0.000000e+00</td>\n",
       "      <td>0.000002</td>\n",
       "      <td>0.000000</td>\n",
       "      <td>0.000000</td>\n",
       "    </tr>\n",
       "    <tr>\n",
       "      <th>27073</th>\n",
       "      <td>7.563141e-07</td>\n",
       "      <td>0.000000</td>\n",
       "      <td>0.000000</td>\n",
       "      <td>0.000000</td>\n",
       "    </tr>\n",
       "    <tr>\n",
       "      <th>27074</th>\n",
       "      <td>1.512628e-06</td>\n",
       "      <td>0.000000</td>\n",
       "      <td>0.000000</td>\n",
       "      <td>0.000000</td>\n",
       "    </tr>\n",
       "  </tbody>\n",
       "</table>\n",
       "<p>27075 rows × 4 columns</p>\n",
       "</div>"
      ],
      "text/plain": [
       "                  0         1         2         3\n",
       "0      4.709341e-02  0.006855  0.001663  0.092391\n",
       "1      1.254725e-03  0.001300  0.000325  0.001453\n",
       "2      1.291784e-03  0.000817  0.000178  0.000981\n",
       "3      4.813939e-04  0.000548  0.000965  0.001353\n",
       "4      1.985324e-03  0.000591  0.002177  0.003273\n",
       "...             ...       ...       ...       ...\n",
       "27070  1.134471e-06  0.000000  0.000000  0.000000\n",
       "27071  3.025256e-06  0.000002  0.000000  0.000000\n",
       "27072  0.000000e+00  0.000002  0.000000  0.000000\n",
       "27073  7.563141e-07  0.000000  0.000000  0.000000\n",
       "27074  1.512628e-06  0.000000  0.000000  0.000000\n",
       "\n",
       "[27075 rows x 4 columns]"
      ]
     },
     "execution_count": 20,
     "metadata": {},
     "output_type": "execute_result"
    }
   ],
   "source": [
    "scaled"
   ]
  },
  {
   "cell_type": "code",
   "execution_count": 21,
   "metadata": {},
   "outputs": [
    {
     "data": {
      "image/png": "[encoded data removed]",
      "text/plain": [
       "<Figure size 720x576 with 1 Axes>"
      ]
     },
     "metadata": {
      "needs_background": "light"
     },
     "output_type": "display_data"
    }
   ],
   "source": [
    "clusters = KMeans(n_clusters=2).fit_predict(new_steam[['positive_ratings', 'negative_ratings', 'average_playtime', 'median_playtime']])\n",
    "fig, ax = plt.subplots(figsize=(10,8))\n",
    "scatter = sns.scatterplot(new_steam['positive_ratings'], new_steam['average_playtime'], hue=clusters);\n",
    "ax.set_title('K-Means', fontsize=14);"
   ]
  },
  {
   "cell_type": "code",
   "execution_count": 22,
   "metadata": {},
   "outputs": [
    {
     "data": {
      "text/plain": [
       "9201"
      ]
     },
     "execution_count": 22,
     "metadata": {},
     "output_type": "execute_result"
    }
   ],
   "source": [
    "new_steam['average_playtime'].argmax()"
   ]
  },
  {
   "cell_type": "code",
   "execution_count": 23,
   "metadata": {},
   "outputs": [],
   "source": [
    "new_steam = new_steam.drop(index=9201)"
   ]
  },
  {
   "cell_type": "code",
   "execution_count": 24,
   "metadata": {},
   "outputs": [
    {
     "data": {
      "text/plain": [
       "appid                           474050\n",
       "name                       Candy Blast\n",
       "release_date                2016-06-30\n",
       "english                              1\n",
       "developer           White Rabbit Games\n",
       "publisher           White Rabbit Games\n",
       "platforms                      windows\n",
       "required_age                         0\n",
       "category                        Single\n",
       "secondary_genre                  Indie\n",
       "primary_genre                   Casual\n",
       "achievements                        18\n",
       "positive_ratings                    46\n",
       "negative_ratings                    46\n",
       "average_playtime                   204\n",
       "median_playtime                    212\n",
       "owners                          200000\n",
       "price                             0.79\n",
       "Name: 9202, dtype: object"
      ]
     },
     "execution_count": 24,
     "metadata": {},
     "output_type": "execute_result"
    }
   ],
   "source": [
    "new_steam.iloc[9201]"
   ]
  },
  {
   "cell_type": "code",
   "execution_count": 27,
   "metadata": {},
   "outputs": [],
   "source": [
    "no_zeros_steam = new_steam[new_steam['median_playtime'] > 0]"
   ]
  },
  {
   "cell_type": "code",
   "execution_count": 31,
   "metadata": {},
   "outputs": [
    {
     "data": {
      "image/png": "[encoded data removed]",
      "text/plain": [
       "<Figure size 720x576 with 1 Axes>"
      ]
     },
     "metadata": {
      "needs_background": "light"
     },
     "output_type": "display_data"
    }
   ],
   "source": [
    "no_clusters = KMeans(n_clusters=2).fit_predict(no_zeros_steam[['positive_ratings', 'negative_ratings', 'average_playtime', 'median_playtime']])\n",
    "fig, ax = plt.subplots(figsize=(10,8))\n",
    "no_scatter = sns.scatterplot(no_zeros_steam['positive_ratings'], no_zeros_steam['average_playtime'], hue=no_clusters);\n",
    "ax.set_title('K-Means', fontsize=14);"
   ]
  },
  {
   "cell_type": "code",
   "execution_count": 30,
   "metadata": {},
   "outputs": [],
   "source": [
    "new_steam.loc[new_steam.required_age > 0, 'required_age'] = 1"
   ]
  },
  {
   "cell_type": "code",
   "execution_count": 36,
   "metadata": {},
   "outputs": [
    {
     "data": {
      "text/html": [
       "<div>\n",
       "<style scoped>\n",
       "    .dataframe tbody tr th:only-of-type {\n",
       "        vertical-align: middle;\n",
       "    }\n",
       "\n",
       "    .dataframe tbody tr th {\n",
       "        vertical-align: top;\n",
       "    }\n",
       "\n",
       "    .dataframe thead th {\n",
       "        text-align: right;\n",
       "    }\n",
       "</style>\n",
       "<table border=\"1\" class=\"dataframe\">\n",
       "  <thead>\n",
       "    <tr style=\"text-align: right;\">\n",
       "      <th></th>\n",
       "      <th>appid</th>\n",
       "      <th>name</th>\n",
       "      <th>release_date</th>\n",
       "      <th>english</th>\n",
       "      <th>developer</th>\n",
       "      <th>publisher</th>\n",
       "      <th>platforms</th>\n",
       "      <th>required_age</th>\n",
       "      <th>category</th>\n",
       "      <th>secondary_genre</th>\n",
       "      <th>primary_genre</th>\n",
       "      <th>achievements</th>\n",
       "      <th>positive_ratings</th>\n",
       "      <th>negative_ratings</th>\n",
       "      <th>average_playtime</th>\n",
       "      <th>median_playtime</th>\n",
       "      <th>owners</th>\n",
       "      <th>price</th>\n",
       "    </tr>\n",
       "  </thead>\n",
       "  <tbody>\n",
       "    <tr>\n",
       "      <th>0</th>\n",
       "      <td>10</td>\n",
       "      <td>Counter-Strike</td>\n",
       "      <td>2000-11-01</td>\n",
       "      <td>1</td>\n",
       "      <td>Valve</td>\n",
       "      <td>Valve</td>\n",
       "      <td>windows;mac;linux</td>\n",
       "      <td>0</td>\n",
       "      <td>Multi</td>\n",
       "      <td>Action</td>\n",
       "      <td>Action</td>\n",
       "      <td>0</td>\n",
       "      <td>124534</td>\n",
       "      <td>3339</td>\n",
       "      <td>17612</td>\n",
       "      <td>317</td>\n",
       "      <td>20000000</td>\n",
       "      <td>7.19</td>\n",
       "    </tr>\n",
       "    <tr>\n",
       "      <th>1</th>\n",
       "      <td>20</td>\n",
       "      <td>Team Fortress Classic</td>\n",
       "      <td>1999-04-01</td>\n",
       "      <td>1</td>\n",
       "      <td>Valve</td>\n",
       "      <td>Valve</td>\n",
       "      <td>windows;mac;linux</td>\n",
       "      <td>0</td>\n",
       "      <td>Multi</td>\n",
       "      <td>Action</td>\n",
       "      <td>Action</td>\n",
       "      <td>0</td>\n",
       "      <td>3318</td>\n",
       "      <td>633</td>\n",
       "      <td>277</td>\n",
       "      <td>62</td>\n",
       "      <td>10000000</td>\n",
       "      <td>3.99</td>\n",
       "    </tr>\n",
       "    <tr>\n",
       "      <th>2</th>\n",
       "      <td>30</td>\n",
       "      <td>Day of Defeat</td>\n",
       "      <td>2003-05-01</td>\n",
       "      <td>1</td>\n",
       "      <td>Valve</td>\n",
       "      <td>Valve</td>\n",
       "      <td>windows;mac;linux</td>\n",
       "      <td>0</td>\n",
       "      <td>Multi</td>\n",
       "      <td>Action</td>\n",
       "      <td>Action</td>\n",
       "      <td>0</td>\n",
       "      <td>3416</td>\n",
       "      <td>398</td>\n",
       "      <td>187</td>\n",
       "      <td>34</td>\n",
       "      <td>10000000</td>\n",
       "      <td>3.99</td>\n",
       "    </tr>\n",
       "    <tr>\n",
       "      <th>3</th>\n",
       "      <td>40</td>\n",
       "      <td>Deathmatch Classic</td>\n",
       "      <td>2001-06-01</td>\n",
       "      <td>1</td>\n",
       "      <td>Valve</td>\n",
       "      <td>Valve</td>\n",
       "      <td>windows;mac;linux</td>\n",
       "      <td>0</td>\n",
       "      <td>Multi</td>\n",
       "      <td>Action</td>\n",
       "      <td>Action</td>\n",
       "      <td>0</td>\n",
       "      <td>1273</td>\n",
       "      <td>267</td>\n",
       "      <td>258</td>\n",
       "      <td>184</td>\n",
       "      <td>10000000</td>\n",
       "      <td>3.99</td>\n",
       "    </tr>\n",
       "    <tr>\n",
       "      <th>4</th>\n",
       "      <td>50</td>\n",
       "      <td>Half-Life: Opposing Force</td>\n",
       "      <td>1999-11-01</td>\n",
       "      <td>1</td>\n",
       "      <td>Gearbox Software</td>\n",
       "      <td>Valve</td>\n",
       "      <td>windows;mac;linux</td>\n",
       "      <td>0</td>\n",
       "      <td>Single</td>\n",
       "      <td>Action</td>\n",
       "      <td>Action</td>\n",
       "      <td>0</td>\n",
       "      <td>5250</td>\n",
       "      <td>288</td>\n",
       "      <td>624</td>\n",
       "      <td>415</td>\n",
       "      <td>10000000</td>\n",
       "      <td>3.99</td>\n",
       "    </tr>\n",
       "  </tbody>\n",
       "</table>\n",
       "</div>"
      ],
      "text/plain": [
       "   appid                       name release_date  english         developer  \\\n",
       "0     10             Counter-Strike   2000-11-01        1             Valve   \n",
       "1     20      Team Fortress Classic   1999-04-01        1             Valve   \n",
       "2     30              Day of Defeat   2003-05-01        1             Valve   \n",
       "3     40         Deathmatch Classic   2001-06-01        1             Valve   \n",
       "4     50  Half-Life: Opposing Force   1999-11-01        1  Gearbox Software   \n",
       "\n",
       "  publisher          platforms  required_age category secondary_genre  \\\n",
       "0     Valve  windows;mac;linux             0    Multi          Action   \n",
       "1     Valve  windows;mac;linux             0    Multi          Action   \n",
       "2     Valve  windows;mac;linux             0    Multi          Action   \n",
       "3     Valve  windows;mac;linux             0    Multi          Action   \n",
       "4     Valve  windows;mac;linux             0   Single          Action   \n",
       "\n",
       "  primary_genre  achievements  positive_ratings  negative_ratings  \\\n",
       "0        Action             0            124534              3339   \n",
       "1        Action             0              3318               633   \n",
       "2        Action             0              3416               398   \n",
       "3        Action             0              1273               267   \n",
       "4        Action             0              5250               288   \n",
       "\n",
       "   average_playtime  median_playtime    owners  price  \n",
       "0             17612              317  20000000   7.19  \n",
       "1               277               62  10000000   3.99  \n",
       "2               187               34  10000000   3.99  \n",
       "3               258              184  10000000   3.99  \n",
       "4               624              415  10000000   3.99  "
      ]
     },
     "execution_count": 36,
     "metadata": {},
     "output_type": "execute_result"
    }
   ],
   "source": [
    "new_steam.head()"
   ]
  },
  {
   "cell_type": "code",
   "execution_count": 37,
   "metadata": {},
   "outputs": [
    {
     "data": {
      "text/plain": [
       "<matplotlib.axes._subplots.AxesSubplot at 0x178b9890>"
      ]
     },
     "execution_count": 37,
     "metadata": {},
     "output_type": "execute_result"
    },
    {
     "data": {
      "image/png": "[encoded data removed]",
      "text/plain": [
       "<Figure size 432x288 with 2 Axes>"
      ]
     },
     "metadata": {
      "needs_background": "light"
     },
     "output_type": "display_data"
    }
   ],
   "source": [
    "new_steam_corr = new_steam.corr()\n",
    "sns.heatmap(new_steam_corr, square=True)"
   ]
  },
  {
   "cell_type": "code",
   "execution_count": 39,
   "metadata": {},
   "outputs": [
    {
     "data": {
      "text/plain": [
       "<matplotlib.axes._subplots.AxesSubplot at 0x178a3d90>"
      ]
     },
     "execution_count": 39,
     "metadata": {},
     "output_type": "execute_result"
    },
    {
     "data": {
      "image/png": "[encoded data removed]",
      "text/plain": [
       "<Figure size 432x288 with 2 Axes>"
      ]
     },
     "metadata": {
      "needs_background": "light"
     },
     "output_type": "display_data"
    }
   ],
   "source": [
    "sns.heatmap(steam_corr, square=True)"
   ]
  },
  {
   "cell_type": "code",
   "execution_count": null,
   "metadata": {},
   "outputs": [],
   "source": []
  }
 ],
 "metadata": {
  "kernelspec": {
   "display_name": "Python 3",
   "language": "python",
   "name": "python3"
  },
  "language_info": {
   "codemirror_mode": {
    "name": "ipython",
    "version": 3
   },
   "file_extension": ".py",
   "mimetype": "text/x-python",
   "name": "python",
   "nbconvert_exporter": "python",
   "pygments_lexer": "ipython3",
   "version": "3.6.8"
  }
 },
 "nbformat": 4,
 "nbformat_minor": 4
}
